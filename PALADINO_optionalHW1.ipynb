{
 "cells": [
  {
   "cell_type": "markdown",
   "metadata": {},
   "source": [
    "# Assignment 1 - Deep Learning (OPTIONAL)\n",
    "[Annalisa Paladino](mailto:ANNALISA.PALADINO@studenti.units.it)  "
   ]
  },
  {
   "cell_type": "markdown",
   "metadata": {},
   "source": [
    "## Problem:"
   ]
  },
  {
   "cell_type": "markdown",
   "metadata": {},
   "source": [
    "1.   Read carefully the paper [*“Learning representations by back-propagating errors” (Rumelhart et al., 1986)*](https://bucket.ballarin.cc/papers/oth/rumelhart1986.pdf). Read it in its entirety, but focus specifically on the experiment outlined in *Fig. 1* (learning mirror symmetries in 6-digits numbers).\n",
    "\n",
    "2.   Reproduce in `PyTorch` (or any other *DL* library you are confident using) such experiment. Try to be as close as possible to the original protocol, with respect to network architecture, activation functions, learning algorithm and parameter initialization.\n",
    "\n",
    "3.   Assess model accuracy, and inspect the weights of the trained network. Do they provide a solution to the problem?\n",
    "\n",
    "4.   Compare the solution to the one reported in the original paper. Comment.\n",
    "\n",
    "5.   **Optional:** you are warmly encouraged to explore and discuss additional variations to the experimental details and the results they produce on final accuracy and weights of the network. Some of such changes may include (but are not limited to):\n",
    "     -   changing the activation functions of the network;\n",
    "     -   changing the optimizer and/or its hyperparameters;\n",
    "     -   adding a learning rate scheduler, *etc.*"
   ]
  },
  {
   "cell_type": "markdown",
   "metadata": {},
   "source": [
    "## 5. Optional Solution \n",
    "\n",
    "This part is just to explore and discuss additional variations to the implementation I proposed in the main document, for this reason I will not repeat myself too much, for further clarifications check the main document."
   ]
  },
  {
   "cell_type": "markdown",
   "metadata": {},
   "source": [
    "Again, let's download the necessary libraries"
   ]
  },
  {
   "cell_type": "code",
   "execution_count": 34,
   "metadata": {},
   "outputs": [],
   "source": [
    "import torch\n",
    "import torch.nn as nn\n",
    "import numpy as np\n",
    "from torch import Tensor\n",
    "import torch.optim as optim\n",
    "from torch.utils.data import DataLoader, TensorDataset\n",
    "from itertools import product\n",
    "import matplotlib.pyplot as plt"
   ]
  },
  {
   "cell_type": "markdown",
   "metadata": {},
   "source": [
    "## 1st attempt: change the loss\n",
    "\n",
    "Now let's try with a different loss criterion, instead of using the one proposed by the paper we can try with MSE"
   ]
  },
  {
   "cell_type": "markdown",
   "metadata": {},
   "source": [
    "### Create the dataset\n",
    "\n",
    "The dataset is composed of lists of 6 binary elements, in total there are 64 elements. "
   ]
  },
  {
   "cell_type": "code",
   "execution_count": 35,
   "metadata": {},
   "outputs": [],
   "source": [
    "# Create the dataset\n",
    "def is_symmetric(binary_string):\n",
    "    return float(binary_string == binary_string[::-1])\n",
    "\n",
    "# All possible 6-bit binary numbers\n",
    "inputs = torch.tensor([list(map(float, format(i, '06b'))) for i in range(64)], dtype=torch.float32)\n",
    "# Target outputs for mirror symmetry\n",
    "targets = torch.tensor([[is_symmetric(bin(i)[2:].zfill(6))] for i in range(64)], dtype=torch.float32)\n",
    "\n",
    "# DataLoader\n",
    "train_data = TensorDataset(inputs, targets)\n",
    "train_loader = DataLoader(train_data, batch_size=64, shuffle=False)"
   ]
  },
  {
   "cell_type": "markdown",
   "metadata": {},
   "source": [
    "### Define the network"
   ]
  },
  {
   "cell_type": "code",
   "execution_count": 36,
   "metadata": {},
   "outputs": [],
   "source": [
    "# Define the network\n",
    "class MirrorSymmetryNetwork(nn.Module):\n",
    "    def __init__(self):\n",
    "        super(MirrorSymmetryNetwork, self).__init__()\n",
    "        # Define the network layers\n",
    "        self.hidden = nn.Linear(6, 2, bias=True)\n",
    "        self.output = nn.Linear(2, 1, bias=True)\n",
    "        # Sigmoid activation function\n",
    "        self.sigmoid = nn.Sigmoid()\n",
    "\n",
    "    def forward(self, x):\n",
    "        x = self.sigmoid(self.hidden(x))\n",
    "        x = self.sigmoid(self.output(x))\n",
    "        return x\n",
    "\n",
    "# Initialize the network\n",
    "net = MirrorSymmetryNetwork()"
   ]
  },
  {
   "cell_type": "code",
   "execution_count": 37,
   "metadata": {},
   "outputs": [
    {
     "data": {
      "text/plain": [
       "MirrorSymmetryNetwork(\n",
       "  (hidden): Linear(in_features=6, out_features=2, bias=True)\n",
       "  (output): Linear(in_features=2, out_features=1, bias=True)\n",
       "  (sigmoid): Sigmoid()\n",
       ")"
      ]
     },
     "execution_count": 37,
     "metadata": {},
     "output_type": "execute_result"
    }
   ],
   "source": [
    "# Initialize weights and biases within the range [-0.3, 0.3]\n",
    "def init_weights(m):\n",
    "    if isinstance(m, nn.Linear):\n",
    "        nn.init.uniform_(m.weight, -0.3, 0.3)\n",
    "        nn.init.uniform_(m.bias, -0.3, 0.3)\n",
    "\n",
    "# Apply weight initialization\n",
    "net.apply(init_weights)"
   ]
  },
  {
   "cell_type": "markdown",
   "metadata": {},
   "source": [
    "### Define loss & optimizer"
   ]
  },
  {
   "cell_type": "markdown",
   "metadata": {},
   "source": [
    "Now, instead of the loss described in the paper we are using MSE"
   ]
  },
  {
   "cell_type": "code",
   "execution_count": 38,
   "metadata": {},
   "outputs": [],
   "source": [
    "# Loss and optimizer\n",
    "lss = nn.MSELoss()\n",
    "    \n",
    "optimizer = torch.optim.SGD(net.parameters(), lr=0.1, momentum=0.9) "
   ]
  },
  {
   "cell_type": "markdown",
   "metadata": {},
   "source": [
    "### Training"
   ]
  },
  {
   "cell_type": "code",
   "execution_count": 39,
   "metadata": {},
   "outputs": [
    {
     "name": "stdout",
     "output_type": "stream",
     "text": [
      "Epoch 0: Loss = 0.26553255319595337, Accuracy = 0.125\n",
      "Epoch 100: Loss = 0.10941645503044128, Accuracy = 0.875\n",
      "Epoch 200: Loss = 0.10938103497028351, Accuracy = 0.875\n",
      "Epoch 300: Loss = 0.10937830805778503, Accuracy = 0.875\n",
      "Epoch 400: Loss = 0.10937581211328506, Accuracy = 0.875\n",
      "Epoch 500: Loss = 0.1093735322356224, Accuracy = 0.875\n",
      "Epoch 600: Loss = 0.10937140882015228, Accuracy = 0.875\n",
      "Epoch 700: Loss = 0.1093694269657135, Accuracy = 0.875\n",
      "Epoch 800: Loss = 0.10936753451824188, Accuracy = 0.875\n",
      "Epoch 900: Loss = 0.10936573892831802, Accuracy = 0.875\n",
      "Epoch 1000: Loss = 0.10936398059129715, Accuracy = 0.875\n",
      "Epoch 1100: Loss = 0.10936227440834045, Accuracy = 0.875\n",
      "Epoch 1200: Loss = 0.10936059802770615, Accuracy = 0.875\n",
      "Epoch 1300: Loss = 0.10935892164707184, Accuracy = 0.875\n",
      "Epoch 1400: Loss = 0.10935724526643753, Accuracy = 0.875\n"
     ]
    }
   ],
   "source": [
    "# Initialize lists to store loss and accuracy\n",
    "losses = []\n",
    "accuracies = []\n",
    "\n",
    "# Training loop\n",
    "for epoch in range(1425):\n",
    "    for input_vector, target in train_loader:\n",
    "        output = net(input_vector)\n",
    "        loss = lss(output, target)\n",
    "        optimizer.zero_grad()\n",
    "        loss.backward()\n",
    "        optimizer.step()\n",
    "    \n",
    "    # Record the loss\n",
    "    losses.append(loss.item())\n",
    "    \n",
    "    # Calculate accuracy\n",
    "    with torch.no_grad():\n",
    "        predictions = net(inputs).round()\n",
    "        accuracy = (predictions == targets).float().mean().item()\n",
    "        accuracies.append(accuracy)\n",
    "\n",
    "    if epoch % 100 == 0:\n",
    "        print(f'Epoch {epoch}: Loss = {loss.item()}, Accuracy = {accuracy}')"
   ]
  },
  {
   "cell_type": "code",
   "execution_count": 40,
   "metadata": {},
   "outputs": [
    {
     "name": "stdout",
     "output_type": "stream",
     "text": [
      "tensor([[ 0.3579, -0.0915,  0.1322, -0.2336,  0.1518,  0.1035],\n",
      "        [-0.2432,  0.0932, -0.2039,  0.1470, -0.1950,  0.2512]])\n",
      "tensor([-0.1457, -0.3099])\n",
      "tensor([[-0.7554, -0.7308]])\n",
      "tensor([-1.2595])\n"
     ]
    }
   ],
   "source": [
    "with torch.no_grad():\n",
    "    for param in net.parameters():\n",
    "        print(param.detach().clone())"
   ]
  },
  {
   "cell_type": "markdown",
   "metadata": {},
   "source": [
    "### Plots"
   ]
  },
  {
   "cell_type": "code",
   "execution_count": 41,
   "metadata": {},
   "outputs": [
    {
     "data": {
      "text/plain": [
       "Text(0.5, 1.0, 'Loss vs. Epoch')"
      ]
     },
     "execution_count": 41,
     "metadata": {},
     "output_type": "execute_result"
    },
    {
     "data": {
      "image/png": "[encoded data removed]",
      "text/plain": [
       "<Figure size 640x480 with 1 Axes>"
      ]
     },
     "metadata": {},
     "output_type": "display_data"
    }
   ],
   "source": [
    "plt.plot(losses)\n",
    "plt.title('Loss vs. Epoch')"
   ]
  },
  {
   "cell_type": "code",
   "execution_count": 42,
   "metadata": {},
   "outputs": [
    {
     "data": {
      "text/plain": [
       "Text(0.5, 1.0, 'Accuracy vs. Epoch')"
      ]
     },
     "execution_count": 42,
     "metadata": {},
     "output_type": "execute_result"
    },
    {
     "data": {
      "image/png": "[encoded data removed]",
      "text/plain": [
       "<Figure size 640x480 with 1 Axes>"
      ]
     },
     "metadata": {},
     "output_type": "display_data"
    }
   ],
   "source": [
    "plt.plot(accuracies)\n",
    "plt.title('Accuracy vs. Epoch')"
   ]
  },
  {
   "cell_type": "markdown",
   "metadata": {},
   "source": [
    "## 2nd attempt: changing the optimizer \n",
    "\n",
    "Now let's try to change the learning rate by setting it to 1"
   ]
  },
  {
   "cell_type": "code",
   "execution_count": 43,
   "metadata": {},
   "outputs": [
    {
     "data": {
      "text/plain": [
       "MirrorSymmetryNetwork(\n",
       "  (hidden): Linear(in_features=6, out_features=2, bias=True)\n",
       "  (output): Linear(in_features=2, out_features=1, bias=True)\n",
       "  (sigmoid): Sigmoid()\n",
       ")"
      ]
     },
     "execution_count": 43,
     "metadata": {},
     "output_type": "execute_result"
    }
   ],
   "source": [
    "net = MirrorSymmetryNetwork()\n",
    "net.apply(init_weights)"
   ]
  },
  {
   "cell_type": "code",
   "execution_count": 44,
   "metadata": {},
   "outputs": [],
   "source": [
    "# Loss and optimizer\n",
    "def lss(output, target):\n",
    "        return torch.sum((output - target) ** 2)/2\n",
    "    \n",
    "optimizer = torch.optim.SGD(net.parameters(), lr=1, momentum=0.9)"
   ]
  },
  {
   "cell_type": "code",
   "execution_count": 45,
   "metadata": {},
   "outputs": [
    {
     "name": "stdout",
     "output_type": "stream",
     "text": [
      "Epoch 0: Loss = 8.988725662231445, Accuracy = 0.875\n",
      "Epoch 100: Loss = 4.0, Accuracy = 0.875\n",
      "Epoch 200: Loss = 4.0, Accuracy = 0.875\n",
      "Epoch 300: Loss = 4.0, Accuracy = 0.875\n",
      "Epoch 400: Loss = 4.0, Accuracy = 0.875\n",
      "Epoch 500: Loss = 4.0, Accuracy = 0.875\n",
      "Epoch 600: Loss = 4.0, Accuracy = 0.875\n",
      "Epoch 700: Loss = 4.0, Accuracy = 0.875\n",
      "Epoch 800: Loss = 4.0, Accuracy = 0.875\n",
      "Epoch 900: Loss = 4.0, Accuracy = 0.875\n",
      "Epoch 1000: Loss = 4.0, Accuracy = 0.875\n",
      "Epoch 1100: Loss = 4.0, Accuracy = 0.875\n",
      "Epoch 1200: Loss = 4.0, Accuracy = 0.875\n",
      "Epoch 1300: Loss = 4.0, Accuracy = 0.875\n",
      "Epoch 1400: Loss = 4.0, Accuracy = 0.875\n"
     ]
    }
   ],
   "source": [
    "# Initialize lists to store loss and accuracy\n",
    "losses = []\n",
    "accuracies = []\n",
    "\n",
    "# Training loop\n",
    "for epoch in range(1425):\n",
    "    for input_vector, target in train_loader:\n",
    "        output = net(input_vector)\n",
    "        loss = lss(output, target)\n",
    "        optimizer.zero_grad()\n",
    "        loss.backward()\n",
    "        optimizer.step()\n",
    "    \n",
    "    # Record the loss\n",
    "    losses.append(loss.item())\n",
    "    \n",
    "    # Calculate accuracy\n",
    "    with torch.no_grad():\n",
    "        predictions = net(inputs).round()\n",
    "        accuracy = (predictions == targets).float().mean().item()\n",
    "        accuracies.append(accuracy)\n",
    "\n",
    "    if epoch % 100 == 0:\n",
    "        print(f'Epoch {epoch}: Loss = {loss.item()}, Accuracy = {accuracy}')"
   ]
  },
  {
   "cell_type": "code",
   "execution_count": 46,
   "metadata": {},
   "outputs": [
    {
     "name": "stdout",
     "output_type": "stream",
     "text": [
      "tensor([[-1.9841, -2.0108, -2.3474, -1.9130, -2.3443, -2.2811],\n",
      "        [ 2.1603,  2.0556,  1.9578,  2.2334,  1.8994,  1.8529]])\n",
      "tensor([-3.9329,  3.8220])\n",
      "tensor([[-32.0174, -32.1892]])\n",
      "tensor([-65.6990])\n"
     ]
    }
   ],
   "source": [
    "with torch.no_grad():\n",
    "    for param in net.parameters():\n",
    "        print(param.detach().clone())"
   ]
  },
  {
   "cell_type": "code",
   "execution_count": 47,
   "metadata": {},
   "outputs": [
    {
     "data": {
      "text/plain": [
       "Text(0.5, 1.0, 'Loss vs. Epoch')"
      ]
     },
     "execution_count": 47,
     "metadata": {},
     "output_type": "execute_result"
    },
    {
     "data": {
      "image/png": "[encoded data removed]",
      "text/plain": [
       "<Figure size 640x480 with 1 Axes>"
      ]
     },
     "metadata": {},
     "output_type": "display_data"
    }
   ],
   "source": [
    "plt.plot(losses)\n",
    "plt.title('Loss vs. Epoch')"
   ]
  },
  {
   "cell_type": "code",
   "execution_count": 48,
   "metadata": {},
   "outputs": [
    {
     "data": {
      "text/plain": [
       "Text(0.5, 1.0, 'Accuracy vs. Epoch')"
      ]
     },
     "execution_count": 48,
     "metadata": {},
     "output_type": "execute_result"
    },
    {
     "data": {
      "image/png": "[encoded data removed]",
      "text/plain": [
       "<Figure size 640x480 with 1 Axes>"
      ]
     },
     "metadata": {},
     "output_type": "display_data"
    }
   ],
   "source": [
    "plt.plot(accuracies)\n",
    "plt.title('Accuracy vs. Epoch')"
   ]
  },
  {
   "cell_type": "markdown",
   "metadata": {},
   "source": [
    "## Attempt 3: change both the optimizer and the loss\n",
    "\n",
    "In this 3rd attemp we can unite attempt 1 and attempt 2: now the loss is MSE and the optimizer has learning rate 1 and momentum 0.9"
   ]
  },
  {
   "cell_type": "code",
   "execution_count": 49,
   "metadata": {},
   "outputs": [
    {
     "data": {
      "text/plain": [
       "MirrorSymmetryNetwork(\n",
       "  (hidden): Linear(in_features=6, out_features=2, bias=True)\n",
       "  (output): Linear(in_features=2, out_features=1, bias=True)\n",
       "  (sigmoid): Sigmoid()\n",
       ")"
      ]
     },
     "execution_count": 49,
     "metadata": {},
     "output_type": "execute_result"
    }
   ],
   "source": [
    "net = MirrorSymmetryNetwork()\n",
    "net.apply(init_weights)"
   ]
  },
  {
   "cell_type": "code",
   "execution_count": 50,
   "metadata": {},
   "outputs": [],
   "source": [
    "# Loss and optimizer\n",
    "lss = nn.MSELoss()\n",
    "optimizer = torch.optim.SGD(net.parameters(), lr=1, momentum=0.9)"
   ]
  },
  {
   "cell_type": "code",
   "execution_count": 51,
   "metadata": {},
   "outputs": [
    {
     "name": "stdout",
     "output_type": "stream",
     "text": [
      "Epoch 0: Loss = 0.23332522809505463, Accuracy = 0.875\n",
      "Epoch 100: Loss = 0.11063044518232346, Accuracy = 0.875\n",
      "Epoch 200: Loss = 0.10945910215377808, Accuracy = 0.875\n",
      "Epoch 300: Loss = 0.10906718671321869, Accuracy = 0.875\n",
      "Epoch 400: Loss = 0.10806300491094589, Accuracy = 0.875\n",
      "Epoch 500: Loss = 0.10368695855140686, Accuracy = 0.875\n",
      "Epoch 600: Loss = 0.0880250409245491, Accuracy = 0.875\n",
      "Epoch 700: Loss = 0.060746002942323685, Accuracy = 0.875\n",
      "Epoch 800: Loss = 0.03690158948302269, Accuracy = 1.0\n",
      "Epoch 900: Loss = 0.021576477214694023, Accuracy = 1.0\n",
      "Epoch 1000: Loss = 0.012119844555854797, Accuracy = 1.0\n",
      "Epoch 1100: Loss = 0.007239118684083223, Accuracy = 1.0\n",
      "Epoch 1200: Loss = 0.004752283450216055, Accuracy = 1.0\n",
      "Epoch 1300: Loss = 0.0033803298138082027, Accuracy = 1.0\n",
      "Epoch 1400: Loss = 0.0025537770707160234, Accuracy = 1.0\n"
     ]
    }
   ],
   "source": [
    "# Initialize lists to store loss and accuracy\n",
    "losses = []\n",
    "accuracies = []\n",
    "\n",
    "# Training loop\n",
    "for epoch in range(1425):\n",
    "    for input_vector, target in train_loader:\n",
    "        output = net(input_vector)\n",
    "        loss = lss(output, target)\n",
    "        optimizer.zero_grad()\n",
    "        loss.backward()\n",
    "        optimizer.step()\n",
    "    \n",
    "    # Record the loss\n",
    "    losses.append(loss.item())\n",
    "    \n",
    "    # Calculate accuracy\n",
    "    with torch.no_grad():\n",
    "        predictions = net(inputs).round()\n",
    "        accuracy = (predictions == targets).float().mean().item()\n",
    "        accuracies.append(accuracy)\n",
    "\n",
    "    if epoch % 100 == 0:\n",
    "        print(f'Epoch {epoch}: Loss = {loss.item()}, Accuracy = {accuracy}')"
   ]
  },
  {
   "cell_type": "code",
   "execution_count": 52,
   "metadata": {},
   "outputs": [
    {
     "name": "stdout",
     "output_type": "stream",
     "text": [
      "tensor([[ 9.0497,  4.4338,  6.8005, -6.8022, -4.4350, -9.0511],\n",
      "        [-9.0539, -4.4364, -6.8043,  6.8026,  4.4352,  9.0525]])\n",
      "tensor([-1.8344, -1.8348])\n",
      "tensor([[-13.1133, -13.1116]])\n",
      "tensor([5.8002])\n"
     ]
    }
   ],
   "source": [
    "with torch.no_grad():\n",
    "    for param in net.parameters():\n",
    "        print(param.detach().clone())"
   ]
  },
  {
   "cell_type": "code",
   "execution_count": 53,
   "metadata": {},
   "outputs": [
    {
     "data": {
      "text/plain": [
       "Text(0.5, 1.0, 'Loss vs. Epoch')"
      ]
     },
     "execution_count": 53,
     "metadata": {},
     "output_type": "execute_result"
    },
    {
     "data": {
      "image/png": "[encoded data removed]",
      "text/plain": [
       "<Figure size 640x480 with 1 Axes>"
      ]
     },
     "metadata": {},
     "output_type": "display_data"
    }
   ],
   "source": [
    "plt.plot(losses)\n",
    "plt.title('Loss vs. Epoch')"
   ]
  },
  {
   "cell_type": "code",
   "execution_count": 54,
   "metadata": {},
   "outputs": [
    {
     "data": {
      "text/plain": [
       "Text(0.5, 1.0, 'Accuracy vs. Epoch')"
      ]
     },
     "execution_count": 54,
     "metadata": {},
     "output_type": "execute_result"
    },
    {
     "data": {
      "image/png": "[encoded data removed]",
      "text/plain": [
       "<Figure size 640x480 with 1 Axes>"
      ]
     },
     "metadata": {},
     "output_type": "display_data"
    }
   ],
   "source": [
    "plt.plot(accuracies)\n",
    "plt.title('Accuracy vs. Epoch')"
   ]
  },
  {
   "cell_type": "markdown",
   "metadata": {},
   "source": [
    "## Attempt 4: change the optimizer (use Adam)\n",
    "\n",
    "We can try to use Adam optimizer instead of SGD "
   ]
  },
  {
   "cell_type": "code",
   "execution_count": 55,
   "metadata": {},
   "outputs": [
    {
     "data": {
      "text/plain": [
       "MirrorSymmetryNetwork(\n",
       "  (hidden): Linear(in_features=6, out_features=2, bias=True)\n",
       "  (output): Linear(in_features=2, out_features=1, bias=True)\n",
       "  (sigmoid): Sigmoid()\n",
       ")"
      ]
     },
     "execution_count": 55,
     "metadata": {},
     "output_type": "execute_result"
    }
   ],
   "source": [
    "net = MirrorSymmetryNetwork()\n",
    "net.apply(init_weights)"
   ]
  },
  {
   "cell_type": "code",
   "execution_count": 56,
   "metadata": {},
   "outputs": [],
   "source": [
    "# Loss and optimizer\n",
    "lss = nn.MSELoss()\n",
    "\n",
    "optimizer = torch.optim.Adam(net.parameters(), lr=0.1)"
   ]
  },
  {
   "cell_type": "code",
   "execution_count": 57,
   "metadata": {},
   "outputs": [
    {
     "name": "stdout",
     "output_type": "stream",
     "text": [
      "Epoch 0: Loss = 0.29437902569770813, Accuracy = 0.125\n",
      "Epoch 100: Loss = 0.10826130956411362, Accuracy = 0.875\n",
      "Epoch 200: Loss = 0.10602041333913803, Accuracy = 0.875\n",
      "Epoch 300: Loss = 0.09872125089168549, Accuracy = 0.890625\n",
      "Epoch 400: Loss = 0.09228555858135223, Accuracy = 0.890625\n",
      "Epoch 500: Loss = 0.09050311893224716, Accuracy = 0.890625\n",
      "Epoch 600: Loss = 0.08995728194713593, Accuracy = 0.890625\n",
      "Epoch 700: Loss = 0.08972019702196121, Accuracy = 0.890625\n",
      "Epoch 800: Loss = 0.08958852291107178, Accuracy = 0.890625\n",
      "Epoch 900: Loss = 0.08950553089380264, Accuracy = 0.890625\n",
      "Epoch 1000: Loss = 0.0894492119550705, Accuracy = 0.890625\n",
      "Epoch 1100: Loss = 0.08940890431404114, Accuracy = 0.890625\n",
      "Epoch 1200: Loss = 0.08937890827655792, Accuracy = 0.890625\n",
      "Epoch 1300: Loss = 0.08935588598251343, Accuracy = 0.890625\n",
      "Epoch 1400: Loss = 0.08933775126934052, Accuracy = 0.890625\n"
     ]
    }
   ],
   "source": [
    "# Initialize lists to store loss and accuracy\n",
    "losses = []\n",
    "accuracies = []\n",
    "\n",
    "# Training loop\n",
    "for epoch in range(1425):\n",
    "    for input_vector, target in train_loader:\n",
    "        output = net(input_vector)\n",
    "        loss = lss(output, target)\n",
    "        optimizer.zero_grad()\n",
    "        loss.backward()\n",
    "        optimizer.step()\n",
    "    \n",
    "    # Record the loss\n",
    "    losses.append(loss.item())\n",
    "    \n",
    "    # Calculate accuracy\n",
    "    with torch.no_grad():\n",
    "        predictions = net(inputs).round()\n",
    "        accuracy = (predictions == targets).float().mean().item()\n",
    "        accuracies.append(accuracy)\n",
    "\n",
    "    if epoch % 100 == 0:\n",
    "        print(f'Epoch {epoch}: Loss = {loss.item()}, Accuracy = {accuracy}')"
   ]
  },
  {
   "cell_type": "code",
   "execution_count": 58,
   "metadata": {},
   "outputs": [
    {
     "name": "stdout",
     "output_type": "stream",
     "text": [
      "tensor([[  5.0934,   6.0274,  10.5189,   6.6250,  10.5003,  10.4701],\n",
      "        [ 17.4984,   8.7154,  -9.0884,   8.6969,  -9.0988, -17.8947]])\n",
      "tensor([-3.4199, -7.3083])\n",
      "tensor([[-4.5026, -4.4979]])\n",
      "tensor([3.0136])\n"
     ]
    }
   ],
   "source": [
    "with torch.no_grad():\n",
    "    for param in net.parameters():\n",
    "        print(param.detach().clone())"
   ]
  },
  {
   "cell_type": "code",
   "execution_count": 59,
   "metadata": {},
   "outputs": [
    {
     "data": {
      "text/plain": [
       "Text(0.5, 1.0, 'Loss vs. Epoch')"
      ]
     },
     "execution_count": 59,
     "metadata": {},
     "output_type": "execute_result"
    },
    {
     "data": {
      "image/png": "[encoded data removed]",
      "text/plain": [
       "<Figure size 640x480 with 1 Axes>"
      ]
     },
     "metadata": {},
     "output_type": "display_data"
    }
   ],
   "source": [
    "plt.plot(losses)\n",
    "plt.title('Loss vs. Epoch')"
   ]
  },
  {
   "cell_type": "code",
   "execution_count": 60,
   "metadata": {},
   "outputs": [
    {
     "data": {
      "text/plain": [
       "Text(0.5, 1.0, 'Accuracy vs. Epoch')"
      ]
     },
     "execution_count": 60,
     "metadata": {},
     "output_type": "execute_result"
    },
    {
     "data": {
      "image/png": "[encoded data removed]",
      "text/plain": [
       "<Figure size 640x480 with 1 Axes>"
      ]
     },
     "metadata": {},
     "output_type": "display_data"
    }
   ],
   "source": [
    "plt.plot(accuracies)\n",
    "plt.title('Accuracy vs. Epoch')"
   ]
  },
  {
   "cell_type": "markdown",
   "metadata": {},
   "source": [
    "## Attempt 5: change activation function\n",
    "\n",
    "Now instead of using the Sigmoid activation function we can try to use ReLU"
   ]
  },
  {
   "cell_type": "code",
   "execution_count": 61,
   "metadata": {},
   "outputs": [
    {
     "data": {
      "text/plain": [
       "MirrorSymmetryNetwork(\n",
       "  (hidden): Linear(in_features=6, out_features=2, bias=True)\n",
       "  (output): Linear(in_features=2, out_features=1, bias=True)\n",
       "  (relu): ReLU()\n",
       "  (sigmoid): Sigmoid()\n",
       ")"
      ]
     },
     "execution_count": 61,
     "metadata": {},
     "output_type": "execute_result"
    }
   ],
   "source": [
    "# Define the network\n",
    "class MirrorSymmetryNetwork(nn.Module):\n",
    "    def __init__(self):\n",
    "        super(MirrorSymmetryNetwork, self).__init__()\n",
    "        # Define the network layers\n",
    "        self.hidden = nn.Linear(6, 2, bias=True)\n",
    "        self.output = nn.Linear(2, 1, bias=True)\n",
    "        # ReLU activation function\n",
    "        self.relu = nn.ReLU()\n",
    "        self.sigmoid = nn.Sigmoid()\n",
    "        \n",
    "    def forward(self, x):\n",
    "        x = self.relu(self.hidden(x))\n",
    "        x = self.sigmoid(self.output(x))\n",
    "        return x\n",
    "\n",
    "# Initialize the network\n",
    "net = MirrorSymmetryNetwork()\n",
    "net.apply(init_weights)"
   ]
  },
  {
   "cell_type": "code",
   "execution_count": 62,
   "metadata": {},
   "outputs": [],
   "source": [
    "# Loss and optimizer\n",
    "lss = nn.MSELoss()\n",
    "    \n",
    "optimizer = torch.optim.SGD(net.parameters(), lr=0.1, momentum=0.9)"
   ]
  },
  {
   "cell_type": "code",
   "execution_count": 63,
   "metadata": {},
   "outputs": [
    {
     "name": "stdout",
     "output_type": "stream",
     "text": [
      "Epoch 0: Loss = 0.2097509354352951, Accuracy = 0.875\n",
      "Epoch 100: Loss = 0.10947075486183167, Accuracy = 0.875\n",
      "Epoch 200: Loss = 0.10943365842103958, Accuracy = 0.875\n",
      "Epoch 300: Loss = 0.10941571742296219, Accuracy = 0.875\n",
      "Epoch 400: Loss = 0.10940507799386978, Accuracy = 0.875\n",
      "Epoch 500: Loss = 0.10939821600914001, Accuracy = 0.875\n",
      "Epoch 600: Loss = 0.10939352214336395, Accuracy = 0.875\n",
      "Epoch 700: Loss = 0.10939016193151474, Accuracy = 0.875\n",
      "Epoch 800: Loss = 0.10938766598701477, Accuracy = 0.875\n",
      "Epoch 900: Loss = 0.10938575863838196, Accuracy = 0.875\n",
      "Epoch 1000: Loss = 0.10938428342342377, Accuracy = 0.875\n",
      "Epoch 1100: Loss = 0.10938309133052826, Accuracy = 0.875\n",
      "Epoch 1200: Loss = 0.10938213765621185, Accuracy = 0.875\n",
      "Epoch 1300: Loss = 0.10938134789466858, Accuracy = 0.875\n",
      "Epoch 1400: Loss = 0.10938068479299545, Accuracy = 0.875\n"
     ]
    }
   ],
   "source": [
    "# Initialize lists to store loss and accuracy\n",
    "losses = []\n",
    "accuracies = []\n",
    "\n",
    "# Training loop\n",
    "for epoch in range(1425):\n",
    "    for input_vector, target in train_loader:\n",
    "        output = net(input_vector)\n",
    "        loss = lss(output, target)\n",
    "        optimizer.zero_grad()\n",
    "        loss.backward()\n",
    "        optimizer.step()\n",
    "    \n",
    "    # Record the loss\n",
    "    losses.append(loss.item())\n",
    "    \n",
    "    # Calculate accuracy\n",
    "    with torch.no_grad():\n",
    "        predictions = net(inputs).round()\n",
    "        accuracy = (predictions == targets).float().mean().item()\n",
    "        accuracies.append(accuracy)\n",
    "\n",
    "    if epoch % 100 == 0:\n",
    "        print(f'Epoch {epoch}: Loss = {loss.item()}, Accuracy = {accuracy}')"
   ]
  },
  {
   "cell_type": "code",
   "execution_count": 64,
   "metadata": {},
   "outputs": [
    {
     "name": "stdout",
     "output_type": "stream",
     "text": [
      "tensor([[ 0.1331, -0.0337,  0.2400,  0.1981, -0.0900, -0.0465],\n",
      "        [ 0.0467, -0.3533,  0.0450,  0.0324, -0.1151,  0.0618]])\n",
      "tensor([ 0.3920, -0.2293])\n",
      "tensor([[-0.1926,  0.0766]])\n",
      "tensor([-1.8319])\n"
     ]
    }
   ],
   "source": [
    "with torch.no_grad():\n",
    "    for param in net.parameters():\n",
    "        print(param.detach().clone())"
   ]
  },
  {
   "cell_type": "code",
   "execution_count": 65,
   "metadata": {},
   "outputs": [
    {
     "data": {
      "text/plain": [
       "Text(0.5, 1.0, 'Loss vs. Epoch')"
      ]
     },
     "execution_count": 65,
     "metadata": {},
     "output_type": "execute_result"
    },
    {
     "data": {
      "image/png": "[encoded data removed]",
      "text/plain": [
       "<Figure size 640x480 with 1 Axes>"
      ]
     },
     "metadata": {},
     "output_type": "display_data"
    }
   ],
   "source": [
    "plt.plot(losses)\n",
    "plt.title('Loss vs. Epoch')"
   ]
  },
  {
   "cell_type": "code",
   "execution_count": 66,
   "metadata": {},
   "outputs": [
    {
     "data": {
      "text/plain": [
       "Text(0.5, 1.0, 'Accuracy vs. Epoch')"
      ]
     },
     "execution_count": 66,
     "metadata": {},
     "output_type": "execute_result"
    },
    {
     "data": {
      "image/png": "[encoded data removed]",
      "text/plain": [
       "<Figure size 640x480 with 1 Axes>"
      ]
     },
     "metadata": {},
     "output_type": "display_data"
    }
   ],
   "source": [
    "plt.plot(accuracies)\n",
    "plt.title('Accuracy vs. Epoch')"
   ]
  }
 ],
 "metadata": {
  "kernelspec": {
   "display_name": "base",
   "language": "python",
   "name": "python3"
  },
  "language_info": {
   "codemirror_mode": {
    "name": "ipython",
    "version": 3
   },
   "file_extension": ".py",
   "mimetype": "text/x-python",
   "name": "python",
   "nbconvert_exporter": "python",
   "pygments_lexer": "ipython3",
   "version": "3.10.11"
  }
 },
 "nbformat": 4,
 "nbformat_minor": 2
}
